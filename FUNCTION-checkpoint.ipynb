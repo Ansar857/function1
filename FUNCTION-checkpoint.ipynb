{
 "cells": [
  {
   "cell_type": "markdown",
   "metadata": {},
   "source": [
    "# FUNCTION"
   ]
  },
  {
   "cell_type": "code",
   "execution_count": 24,
   "metadata": {},
   "outputs": [
    {
     "name": "stdout",
     "output_type": "stream",
     "text": [
      "Ansar, how are you!\n"
     ]
    }
   ],
   "source": [
    "def greet_user(user_name):\n",
    "    print(user_name.title\n",
    "          () + \", how are you!\" )\n",
    "\n",
    "greet_user('ansar')"
   ]
  },
  {
   "cell_type": "code",
   "execution_count": 25,
   "metadata": {},
   "outputs": [
    {
     "name": "stdout",
     "output_type": "stream",
     "text": [
      "Ramzan, how are you!\n"
     ]
    }
   ],
   "source": [
    "greet_user('RAMZAN')"
   ]
  },
  {
   "cell_type": "code",
   "execution_count": 59,
   "metadata": {},
   "outputs": [],
   "source": [
    " def describe_vehicle(vehicle_name,vehicle_type = \"TRUCK\"):\n",
    "        print(\"\\nI have a \" + vehicle_type + \".\")\n",
    "        print(\"My \" + vehicle_type.title() + \"'s name is \" + vehicle_name.title() + \".\") "
   ]
  },
  {
   "cell_type": "code",
   "execution_count": 62,
   "metadata": {},
   "outputs": [
    {
     "name": "stdout",
     "output_type": "stream",
     "text": [
      "\n",
      "I have a TRUCK.\n",
      "My Truck's name is Volvo.\n",
      "\n",
      "I have a TRUCK.\n",
      "My Truck's name is Scania.\n"
     ]
    }
   ],
   "source": [
    "describe_vehicle('volvo')\n",
    "describe_vehicle('SCANIA')"
   ]
  },
  {
   "cell_type": "code",
   "execution_count": 63,
   "metadata": {},
   "outputs": [
    {
     "name": "stdout",
     "output_type": "stream",
     "text": [
      "\n",
      "I have a TRUCK.\n",
      "My Truck's name is Renault Trucks.\n"
     ]
    }
   ],
   "source": [
    "describe_vehicle('reNault trucks')"
   ]
  },
  {
   "cell_type": "code",
   "execution_count": 83,
   "metadata": {},
   "outputs": [],
   "source": [
    "def shirt(shirt_company_name,shirt_size = 'large'):\n",
    "    print(\"\\nyour shirt of brand \" + shirt_company_name.title() + \" of \" + shirt_size + \" size is ready\" )\n",
    "    "
   ]
  },
  {
   "cell_type": "code",
   "execution_count": 86,
   "metadata": {},
   "outputs": [
    {
     "name": "stdout",
     "output_type": "stream",
     "text": [
      "\n",
      "your shirt of brand Addidas of medium size is ready\n"
     ]
    }
   ],
   "source": [
    "shirt('addidas','medium')"
   ]
  },
  {
   "cell_type": "code",
   "execution_count": 100,
   "metadata": {},
   "outputs": [],
   "source": [
    "def build_user(name , father , Class , roll ):\n",
    "    person = {'first_name': name, 'father_name': father , 'class_name':Class , 'roll_no':roll}\n",
    "    return person\n"
   ]
  },
  {
   "cell_type": "code",
   "execution_count": 101,
   "metadata": {},
   "outputs": [],
   "source": [
    "user1 = build_user('ANSAR','ILYAS','AI','17')"
   ]
  },
  {
   "cell_type": "code",
   "execution_count": 102,
   "metadata": {},
   "outputs": [
    {
     "data": {
      "text/plain": [
       "{'first_name': 'ANSAR',\n",
       " 'father_name': 'ILYAS',\n",
       " 'class_name': 'AI',\n",
       " 'roll_no': '17'}"
      ]
     },
     "execution_count": 102,
     "metadata": {},
     "output_type": "execute_result"
    }
   ],
   "source": [
    "user1"
   ]
  },
  {
   "cell_type": "code",
   "execution_count": 104,
   "metadata": {},
   "outputs": [],
   "source": [
    "user2  = build_user('YASIR','ILYAS','CNC','20')"
   ]
  },
  {
   "cell_type": "code",
   "execution_count": 106,
   "metadata": {},
   "outputs": [
    {
     "data": {
      "text/plain": [
       "{'first_name': 'YASIR',\n",
       " 'father_name': 'ILYAS',\n",
       " 'class_name': 'CNC',\n",
       " 'roll_no': '20'}"
      ]
     },
     "execution_count": 106,
     "metadata": {},
     "output_type": "execute_result"
    }
   ],
   "source": [
    "user2"
   ]
  },
  {
   "cell_type": "code",
   "execution_count": 107,
   "metadata": {},
   "outputs": [
    {
     "data": {
      "text/plain": [
       "{'first_name': 'ANSAR',\n",
       " 'father_name': 'ILYAS',\n",
       " 'class_name': 'AI',\n",
       " 'roll_no': '17'}"
      ]
     },
     "execution_count": 107,
     "metadata": {},
     "output_type": "execute_result"
    }
   ],
   "source": [
    "user1"
   ]
  },
  {
   "cell_type": "code",
   "execution_count": 8,
   "metadata": {},
   "outputs": [
    {
     "name": "stdout",
     "output_type": "stream",
     "text": [
      "\n",
      "Please tell me your name:\n",
      "First name:  ANSAR\n",
      "Last name:  ILyAS\n",
      "\n",
      "Hello,  Ansar  Ilyas!\n",
      "\n",
      "Please tell me your name:\n",
      "First name: e\n"
     ]
    }
   ],
   "source": [
    "def get_formatted_name(first_name, last_name):\n",
    "    \n",
    "    full_name = first_name + ' ' + last_name\n",
    "    return full_name.title()\n",
    "\n",
    "# This is an infinite loop! while True: u\n",
    "while True:\n",
    "    print(\"\\nPlease tell me your name:\")\n",
    "    \n",
    "    f_name = input(\"First name: \")\n",
    "    if f_name =='e':\n",
    "        break\n",
    "    \n",
    "    l_name = input(\"Last name: \")\n",
    "    if l_name == 'e':\n",
    "        break\n",
    "    \n",
    "\n",
    "    formatted_name = get_formatted_name(f_name, l_name)\n",
    "\n",
    "    print(\"\\nHello, \" + formatted_name + \"!\")\n"
   ]
  },
  {
   "cell_type": "code",
   "execution_count": 1,
   "metadata": {},
   "outputs": [
    {
     "name": "stdout",
     "output_type": "stream",
     "text": [
      "\n",
      "Please tell me your country name:\n",
      "city name:  karachi\n",
      "country name: pakistan\n",
      " \" Karachi Pakistan\" \n",
      "\n",
      "Please tell me your country name:\n",
      "city name: e\n"
     ]
    }
   ],
   "source": [
    "def get_formatted_name(city_name, country_name):\n",
    "    \n",
    "    full_name = city_name + ' ' + country_name\n",
    "    return full_name.title()\n",
    "\n",
    "# This is an infinite loop! while True: u\n",
    "while True:\n",
    "    print(\"\\nPlease tell me your country name:\")\n",
    "    \n",
    "    ci_name = input(\"city name: \")\n",
    "    if ci_name =='e':\n",
    "        break\n",
    "    \n",
    "    c_name = input(\"country name: \")\n",
    "    if c_name == 'e':\n",
    "        break\n",
    "\n",
    "    formatted_name = get_formatted_name(ci_name, c_name)\n",
    "\n",
    "    print(f' \"{formatted_name}\" ' )\n"
   ]
  },
  {
   "cell_type": "code",
   "execution_count": 10,
   "metadata": {},
   "outputs": [],
   "source": [
    "def greet_users(names):\n",
    "    for name in names:\n",
    "        greet = \"Assalam o  Alaikum: \" + name.title() + \"!\"\n",
    "        print(greet)"
   ]
  },
  {
   "cell_type": "code",
   "execution_count": 11,
   "metadata": {},
   "outputs": [],
   "source": [
    "user_names = [\"ansar\",\"yasir\",\"qaiser\"]"
   ]
  },
  {
   "cell_type": "code",
   "execution_count": 12,
   "metadata": {},
   "outputs": [
    {
     "name": "stdout",
     "output_type": "stream",
     "text": [
      "Assalam o  Alaikum: Ansar!\n",
      "Assalam o  Alaikum: Yasir!\n",
      "Assalam o  Alaikum: Qaiser!\n"
     ]
    }
   ],
   "source": [
    "greet_users(user_names)"
   ]
  },
  {
   "cell_type": "code",
   "execution_count": 18,
   "metadata": {},
   "outputs": [
    {
     "name": "stdout",
     "output_type": "stream",
     "text": [
      "Printing model: dodecahedron\n",
      "Printing model: robot pendant\n",
      "Printing model: iphone case\n",
      "\n",
      "The following models have been printed:\n",
      "dodecahedron\n",
      "robot pendant\n",
      "iphone case\n"
     ]
    }
   ],
   "source": [
    "unprinted_designs = ['iphone case', 'robot pendant', 'dodecahedron'] \n",
    "completed_models = []\n",
    "  \n",
    "while unprinted_designs:\n",
    "    current_design = unprinted_designs.pop()    \n",
    "    print(\"Printing model: \" + current_design)\n",
    "    completed_models.append(current_design)    \n",
    "    \n",
    "print(\"\\nThe following models have been printed:\")\n",
    "\n",
    "for completed_model in completed_models:\n",
    "    print(completed_model)"
   ]
  },
  {
   "cell_type": "code",
   "execution_count": 35,
   "metadata": {},
   "outputs": [],
   "source": [
    "teahers_names = [\"arif\",\"naeem\",\"qasim\",\"nasir\"]\n",
    "    "
   ]
  },
  {
   "cell_type": "code",
   "execution_count": 62,
   "metadata": {},
   "outputs": [],
   "source": [
    "def make_pizza(*toppings):\n",
    "    print(\"\\nmaking a pizza with following toppings:\")\n",
    "    for topping in toppings:\n",
    "        print(\"-\" + topping)\n",
    "        \n",
    "        \n",
    "    print(F\"\\npizza of your selected toppings  {toppings} is ready in five minutes\")\n",
    "    "
   ]
  },
  {
   "cell_type": "code",
   "execution_count": 63,
   "metadata": {},
   "outputs": [
    {
     "name": "stdout",
     "output_type": "stream",
     "text": [
      "\n",
      "making a pizza with following toppings:\n",
      "-tikka\n",
      "-chicken\n",
      "\n",
      "pizza of your selected toppings  ('tikka', 'chicken') is ready in five minutes\n"
     ]
    }
   ],
   "source": [
    "make_pizza(\"tikka\",\"chicken\")"
   ]
  },
  {
   "cell_type": "code",
   "execution_count": 2,
   "metadata": {},
   "outputs": [],
   "source": [
    "def make_shirt(size,*logos):\n",
    "    print(\"\\nyour shirt of \" + str(size) +\n",
    "          \" -inch with the following logos are as under:\" +f\"\\n{logos}\" + \n",
    "          \"\\nis getting ready in a few days \")\n",
    "    print(\"when your selected size and logos shirt will be ready\", \n",
    "          \"then we will contact you via e-mail \")"
   ]
  },
  {
   "cell_type": "code",
   "execution_count": 5,
   "metadata": {},
   "outputs": [
    {
     "name": "stdout",
     "output_type": "stream",
     "text": [
      "\n",
      "your shirt of 24 -inch with the following logos are as under:\n",
      "('addidas', 'pepsi', 'hair', 'LAys')\n",
      "is getting ready in a few days \n",
      "when your selected size and logos shirt will be ready then we will contact you via e-mail \n"
     ]
    }
   ],
   "source": [
    "make_shirt(24,\"addidas\",\"pepsi\",\"hair\",\"LAys\")\n"
   ]
  },
  {
   "cell_type": "code",
   "execution_count": null,
   "metadata": {},
   "outputs": [],
   "source": []
  },
  {
   "cell_type": "code",
   "execution_count": 34,
   "metadata": {},
   "outputs": [
    {
     "name": "stdout",
     "output_type": "stream",
     "text": [
      "{'first_name': 'asnar', 'last_name': 'ilyas', 'location': 'pakistan', 'field': 'physics', 'city': 'karachi'}\n"
     ]
    }
   ],
   "source": [
    "def build_profile(first, last, **user_info):\n",
    "    profile = {}\n",
    "    profile['first_name'] = first\n",
    "    profile['last_name'] = last\n",
    "    for key, value in user_info.items():\n",
    "        profile[key] = value    \n",
    "    return profile\n",
    "user_profile = build_profile('asnar', 'ilyas',location='pakistan',field='physics',city = 'karachi')\n",
    "print(user_profile)\n"
   ]
  },
  {
   "cell_type": "code",
   "execution_count": 24,
   "metadata": {},
   "outputs": [],
   "source": [
    "def burger(flavour,*inner_layers):\n",
    "    print('your ' + flavour + ' burger is ready in a few minutes')\n",
    "    print('your burger of following layers is added')\n",
    "    print('\\nMaking a burger with following layers')\n",
    "    for inner_layer in inner_layers:\n",
    "        print('-'+ inner_layer)\n",
    "    \n",
    "\n",
    "          "
   ]
  },
  {
   "cell_type": "code",
   "execution_count": 61,
   "metadata": {},
   "outputs": [
    {
     "name": "stdout",
     "output_type": "stream",
     "text": [
      "your zinger burger is ready in a few minutes\n",
      "your burger of following layers is added\n",
      "\n",
      "Making a burger with following layers\n",
      "-kheeera\n",
      "-aloo\n"
     ]
    }
   ],
   "source": [
    "burger('zinger','kheeera','aloo')"
   ]
  },
  {
   "cell_type": "code",
   "execution_count": 65,
   "metadata": {},
   "outputs": [
    {
     "name": "stdout",
     "output_type": "stream",
     "text": [
      "{'user_name': 'ANSAR', 'father_name': 'ilyas', 'Class': 'AI', 'city': 'karachi'}\n"
     ]
    }
   ],
   "source": [
    "def buil_profile(name,fname,**other_info):\n",
    "    user = {}\n",
    "    user[\"user_name\"]= name\n",
    "    user[\"father_name\"] = fname\n",
    "    for key,value in other_info.items():\n",
    "        user[key] = value\n",
    "    return user\n",
    "user1 = buil_profile(\"ANSAR\",\"ilyas\",Class = \"AI\",city = \"karachi\")\n",
    "print(user1)"
   ]
  },
  {
   "cell_type": "code",
   "execution_count": 101,
   "metadata": {},
   "outputs": [
    {
     "name": "stdout",
     "output_type": "stream",
     "text": [
      "CAR_NAME : Corrola\n",
      "CAR_MODEL : 2016\n",
      "ENGINE : 1800Cc\n",
      "COLOUR : Black\n",
      "OWNER_NAME : Ansar Ilyas\n"
     ]
    }
   ],
   "source": [
    "def car_make(name,model,**other):\n",
    "    car = {}\n",
    "    car['car_name'.upper()] = name.title()\n",
    "    car[\"car_model\".upper()] = model.title()\n",
    "    for key,value in other.items():\n",
    "        car[key.upper()] = value.title()\n",
    "    return car\n",
    "car1 = car_make('corrola','2016',engine = '1800cc',colour = 'black',owner_name= 'ANSAR ILYAS')\n",
    "for key,value in car1.items():\n",
    "    print(key +' : '+value)"
   ]
  },
  {
   "cell_type": "code",
   "execution_count": null,
   "metadata": {},
   "outputs": [],
   "source": []
  }
 ],
 "metadata": {
  "kernelspec": {
   "display_name": "Python 3",
   "language": "python",
   "name": "python3"
  },
  "language_info": {
   "codemirror_mode": {
    "name": "ipython",
    "version": 3
   },
   "file_extension": ".py",
   "mimetype": "text/x-python",
   "name": "python",
   "nbconvert_exporter": "python",
   "pygments_lexer": "ipython3",
   "version": "3.7.6"
  }
 },
 "nbformat": 4,
 "nbformat_minor": 4
}
